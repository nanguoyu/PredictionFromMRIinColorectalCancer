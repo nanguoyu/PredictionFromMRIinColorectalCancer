{
 "cells": [
  {
   "cell_type": "code",
   "execution_count": 41,
   "metadata": {},
   "outputs": [],
   "source": [
    "import torch\n",
    "import pickle as pkl\n",
    "from tqdm import tqdm\n",
    "import os\n",
    "import datetime\n",
    "import numpy as np\n",
    "import glob\n",
    "from xgboost import XGBClassifier, XGBRegressor\n",
    "import xgboost as xgb\n",
    "import sklearn\n",
    "from sklearn.model_selection import train_test_split\n",
    "from sklearn.metrics import accuracy_score\n",
    "from sklearn import metrics\n",
    "from sklearn.feature_selection import SelectFromModel\n",
    "from sklearn.model_selection import GridSearchCV\n",
    "from sklearn import preprocessing\n",
    "from sklearn.preprocessing import  OneHotEncoder\n",
    "import pandas as pd\n",
    "from sklearn import svm\n",
    "import time\n",
    "import matplotlib.pyplot as plt\n",
    "import sklearn.model_selection as skl_ms\n",
    "from sklearn.feature_selection import f_classif\n",
    "from sklearn.feature_selection import SelectPercentile"
   ]
  },
  {
   "cell_type": "markdown",
   "metadata": {},
   "source": [
    "## Import data"
   ]
  },
  {
   "cell_type": "code",
   "execution_count": 17,
   "metadata": {},
   "outputs": [],
   "source": [
    "output_T2_info = np.load(\"./patient_outcome.npy\", allow_pickle=True).item()"
   ]
  },
  {
   "cell_type": "code",
   "execution_count": 18,
   "metadata": {},
   "outputs": [
    {
     "data": {
      "text/plain": [
       "['3.3', '0.78125', '0.78125', '3', '1', '74', 'No']"
      ]
     },
     "execution_count": 18,
     "metadata": {},
     "output_type": "execute_result"
    }
   ],
   "source": [
    "output_T2_info.get('16')"
   ]
  },
  {
   "cell_type": "code",
   "execution_count": 19,
   "metadata": {},
   "outputs": [],
   "source": [
    "outcome = np.load(\"./result3.npy\", allow_pickle=True)"
   ]
  },
  {
   "cell_type": "markdown",
   "metadata": {},
   "source": [
    "### Create DataFrame"
   ]
  },
  {
   "cell_type": "code",
   "execution_count": 148,
   "metadata": {},
   "outputs": [],
   "source": [
    "resultFilePaths = np.load(\"./resultFilePaths.npy\")\n",
    "result0 = np.load(resultFilePaths[0], allow_pickle=True)\n",
    "columns_names = ['PatientID']+['Outcome','gender', 'weight']+list(result0.keys())[22:]\n",
    "df = pd.DataFrame(columns=columns_names)\n",
    "df = df.set_index(['PatientID'])"
   ]
  },
  {
   "cell_type": "code",
   "execution_count": 149,
   "metadata": {},
   "outputs": [],
   "source": [
    "def selectFeaturesFromResult(resultFilePath):\n",
    "    res = np.load(resultFilePath, allow_pickle=True)\n",
    "    values = [float(value) for value in list(res.values())[22:] ]\n",
    "    return values"
   ]
  },
  {
   "cell_type": "code",
   "execution_count": 150,
   "metadata": {},
   "outputs": [],
   "source": [
    "def selectLabelFromOutcome(PatientID, outcomeFile):\n",
    "    r = outcomeFile.get(str(PatientID))\n",
    "    label = r[-1]\n",
    "    basicFeatures = r[-3:-1]\n",
    "    return [label]+[float(i) for i in basicFeatures]"
   ]
  },
  {
   "cell_type": "code",
   "execution_count": 151,
   "metadata": {},
   "outputs": [],
   "source": [
    "for path in resultFilePaths:\n",
    "    PatientID = int(path.split(\"/\")[-2][3:])\n",
    "    outcomeOfPatient = selectLabelFromOutcome(PatientID, output_T2_info)\n",
    "    values = selectFeaturesFromResult(path)\n",
    "    v = outcomeOfPatient + values\n",
    "#     print(list(map(type, v)))\n",
    "    df.loc[PatientID] =  v"
   ]
  },
  {
   "cell_type": "code",
   "execution_count": 152,
   "metadata": {},
   "outputs": [],
   "source": [
    "df.gender = df.gender.astype(float)\n",
    "df.weight = df.weight.astype(float)"
   ]
  },
  {
   "cell_type": "code",
   "execution_count": 153,
   "metadata": {
    "scrolled": true
   },
   "outputs": [
    {
     "data": {
      "text/html": [
       "<div>\n",
       "<style scoped>\n",
       "    .dataframe tbody tr th:only-of-type {\n",
       "        vertical-align: middle;\n",
       "    }\n",
       "\n",
       "    .dataframe tbody tr th {\n",
       "        vertical-align: top;\n",
       "    }\n",
       "\n",
       "    .dataframe thead th {\n",
       "        text-align: right;\n",
       "    }\n",
       "</style>\n",
       "<table border=\"1\" class=\"dataframe\">\n",
       "  <thead>\n",
       "    <tr style=\"text-align: right;\">\n",
       "      <th></th>\n",
       "      <th>Outcome</th>\n",
       "      <th>gender</th>\n",
       "      <th>weight</th>\n",
       "      <th>original_shape_Elongation</th>\n",
       "      <th>original_shape_Flatness</th>\n",
       "      <th>original_shape_LeastAxisLength</th>\n",
       "      <th>original_shape_MajorAxisLength</th>\n",
       "      <th>original_shape_Maximum2DDiameterColumn</th>\n",
       "      <th>original_shape_Maximum2DDiameterRow</th>\n",
       "      <th>original_shape_Maximum2DDiameterSlice</th>\n",
       "      <th>...</th>\n",
       "      <th>log-sigma-3-0-mm-3D_glcm_Imc1</th>\n",
       "      <th>log-sigma-3-0-mm-3D_glcm_Imc2</th>\n",
       "      <th>log-sigma-3-0-mm-3D_glcm_Idm</th>\n",
       "      <th>log-sigma-3-0-mm-3D_glcm_Idmn</th>\n",
       "      <th>log-sigma-3-0-mm-3D_glcm_Id</th>\n",
       "      <th>log-sigma-3-0-mm-3D_glcm_Idn</th>\n",
       "      <th>log-sigma-3-0-mm-3D_glcm_InverseVariance</th>\n",
       "      <th>log-sigma-3-0-mm-3D_glcm_MaximumProbability</th>\n",
       "      <th>log-sigma-3-0-mm-3D_glcm_SumEntropy</th>\n",
       "      <th>log-sigma-3-0-mm-3D_glcm_SumSquares</th>\n",
       "    </tr>\n",
       "    <tr>\n",
       "      <th>PatientID</th>\n",
       "      <th></th>\n",
       "      <th></th>\n",
       "      <th></th>\n",
       "      <th></th>\n",
       "      <th></th>\n",
       "      <th></th>\n",
       "      <th></th>\n",
       "      <th></th>\n",
       "      <th></th>\n",
       "      <th></th>\n",
       "      <th></th>\n",
       "      <th></th>\n",
       "      <th></th>\n",
       "      <th></th>\n",
       "      <th></th>\n",
       "      <th></th>\n",
       "      <th></th>\n",
       "      <th></th>\n",
       "      <th></th>\n",
       "      <th></th>\n",
       "      <th></th>\n",
       "    </tr>\n",
       "  </thead>\n",
       "  <tbody>\n",
       "    <tr>\n",
       "      <th>1</th>\n",
       "      <td>Light</td>\n",
       "      <td>0.0</td>\n",
       "      <td>74.0</td>\n",
       "      <td>0.137332</td>\n",
       "      <td>0.020878</td>\n",
       "      <td>4.331391</td>\n",
       "      <td>207.465202</td>\n",
       "      <td>211.200564</td>\n",
       "      <td>30.277375</td>\n",
       "      <td>231.404235</td>\n",
       "      <td>...</td>\n",
       "      <td>-0.495738</td>\n",
       "      <td>0.781897</td>\n",
       "      <td>0.942994</td>\n",
       "      <td>0.993293</td>\n",
       "      <td>0.942994</td>\n",
       "      <td>0.977198</td>\n",
       "      <td>0.114011</td>\n",
       "      <td>0.550751</td>\n",
       "      <td>1.389324</td>\n",
       "      <td>0.247221</td>\n",
       "    </tr>\n",
       "    <tr>\n",
       "      <th>102</th>\n",
       "      <td>Complete</td>\n",
       "      <td>0.0</td>\n",
       "      <td>77.0</td>\n",
       "      <td>0.191051</td>\n",
       "      <td>0.028080</td>\n",
       "      <td>6.659925</td>\n",
       "      <td>237.173898</td>\n",
       "      <td>279.044799</td>\n",
       "      <td>49.206199</td>\n",
       "      <td>279.752122</td>\n",
       "      <td>...</td>\n",
       "      <td>-0.588316</td>\n",
       "      <td>0.775965</td>\n",
       "      <td>0.966875</td>\n",
       "      <td>0.996103</td>\n",
       "      <td>0.966875</td>\n",
       "      <td>0.986750</td>\n",
       "      <td>0.066250</td>\n",
       "      <td>0.731557</td>\n",
       "      <td>1.065144</td>\n",
       "      <td>0.181750</td>\n",
       "    </tr>\n",
       "    <tr>\n",
       "      <th>103</th>\n",
       "      <td>Tangible</td>\n",
       "      <td>0.0</td>\n",
       "      <td>90.0</td>\n",
       "      <td>0.271264</td>\n",
       "      <td>0.036345</td>\n",
       "      <td>7.857014</td>\n",
       "      <td>216.177564</td>\n",
       "      <td>261.000000</td>\n",
       "      <td>66.001894</td>\n",
       "      <td>261.275716</td>\n",
       "      <td>...</td>\n",
       "      <td>-0.538426</td>\n",
       "      <td>0.786132</td>\n",
       "      <td>0.956211</td>\n",
       "      <td>0.994848</td>\n",
       "      <td>0.956211</td>\n",
       "      <td>0.982484</td>\n",
       "      <td>0.087578</td>\n",
       "      <td>0.750952</td>\n",
       "      <td>1.269011</td>\n",
       "      <td>0.203576</td>\n",
       "    </tr>\n",
       "    <tr>\n",
       "      <th>11</th>\n",
       "      <td>Complete</td>\n",
       "      <td>1.0</td>\n",
       "      <td>65.0</td>\n",
       "      <td>0.229518</td>\n",
       "      <td>0.026919</td>\n",
       "      <td>2.189601</td>\n",
       "      <td>81.340930</td>\n",
       "      <td>89.105352</td>\n",
       "      <td>21.086741</td>\n",
       "      <td>92.817065</td>\n",
       "      <td>...</td>\n",
       "      <td>-0.617782</td>\n",
       "      <td>0.854906</td>\n",
       "      <td>0.957176</td>\n",
       "      <td>0.991435</td>\n",
       "      <td>0.957176</td>\n",
       "      <td>0.978588</td>\n",
       "      <td>0.085648</td>\n",
       "      <td>0.610492</td>\n",
       "      <td>1.430337</td>\n",
       "      <td>0.272906</td>\n",
       "    </tr>\n",
       "    <tr>\n",
       "      <th>12</th>\n",
       "      <td>Tangible</td>\n",
       "      <td>0.0</td>\n",
       "      <td>76.0</td>\n",
       "      <td>0.197865</td>\n",
       "      <td>0.035252</td>\n",
       "      <td>7.405435</td>\n",
       "      <td>210.069338</td>\n",
       "      <td>207.021738</td>\n",
       "      <td>50.224496</td>\n",
       "      <td>198.161550</td>\n",
       "      <td>...</td>\n",
       "      <td>-0.525181</td>\n",
       "      <td>0.741154</td>\n",
       "      <td>0.959395</td>\n",
       "      <td>0.991879</td>\n",
       "      <td>0.959395</td>\n",
       "      <td>0.979698</td>\n",
       "      <td>0.081209</td>\n",
       "      <td>0.722927</td>\n",
       "      <td>1.101705</td>\n",
       "      <td>0.182736</td>\n",
       "    </tr>\n",
       "  </tbody>\n",
       "</table>\n",
       "<p>5 rows × 257 columns</p>\n",
       "</div>"
      ],
      "text/plain": [
       "            Outcome  gender  weight  original_shape_Elongation  \\\n",
       "PatientID                                                        \n",
       "1             Light     0.0    74.0                   0.137332   \n",
       "102        Complete     0.0    77.0                   0.191051   \n",
       "103        Tangible     0.0    90.0                   0.271264   \n",
       "11         Complete     1.0    65.0                   0.229518   \n",
       "12         Tangible     0.0    76.0                   0.197865   \n",
       "\n",
       "           original_shape_Flatness  original_shape_LeastAxisLength  \\\n",
       "PatientID                                                            \n",
       "1                         0.020878                        4.331391   \n",
       "102                       0.028080                        6.659925   \n",
       "103                       0.036345                        7.857014   \n",
       "11                        0.026919                        2.189601   \n",
       "12                        0.035252                        7.405435   \n",
       "\n",
       "           original_shape_MajorAxisLength  \\\n",
       "PatientID                                   \n",
       "1                              207.465202   \n",
       "102                            237.173898   \n",
       "103                            216.177564   \n",
       "11                              81.340930   \n",
       "12                             210.069338   \n",
       "\n",
       "           original_shape_Maximum2DDiameterColumn  \\\n",
       "PatientID                                           \n",
       "1                                      211.200564   \n",
       "102                                    279.044799   \n",
       "103                                    261.000000   \n",
       "11                                      89.105352   \n",
       "12                                     207.021738   \n",
       "\n",
       "           original_shape_Maximum2DDiameterRow  \\\n",
       "PatientID                                        \n",
       "1                                    30.277375   \n",
       "102                                  49.206199   \n",
       "103                                  66.001894   \n",
       "11                                   21.086741   \n",
       "12                                   50.224496   \n",
       "\n",
       "           original_shape_Maximum2DDiameterSlice  ...  \\\n",
       "PatientID                                         ...   \n",
       "1                                     231.404235  ...   \n",
       "102                                   279.752122  ...   \n",
       "103                                   261.275716  ...   \n",
       "11                                     92.817065  ...   \n",
       "12                                    198.161550  ...   \n",
       "\n",
       "           log-sigma-3-0-mm-3D_glcm_Imc1  log-sigma-3-0-mm-3D_glcm_Imc2  \\\n",
       "PatientID                                                                 \n",
       "1                              -0.495738                       0.781897   \n",
       "102                            -0.588316                       0.775965   \n",
       "103                            -0.538426                       0.786132   \n",
       "11                             -0.617782                       0.854906   \n",
       "12                             -0.525181                       0.741154   \n",
       "\n",
       "           log-sigma-3-0-mm-3D_glcm_Idm  log-sigma-3-0-mm-3D_glcm_Idmn  \\\n",
       "PatientID                                                                \n",
       "1                              0.942994                       0.993293   \n",
       "102                            0.966875                       0.996103   \n",
       "103                            0.956211                       0.994848   \n",
       "11                             0.957176                       0.991435   \n",
       "12                             0.959395                       0.991879   \n",
       "\n",
       "           log-sigma-3-0-mm-3D_glcm_Id  log-sigma-3-0-mm-3D_glcm_Idn  \\\n",
       "PatientID                                                              \n",
       "1                             0.942994                      0.977198   \n",
       "102                           0.966875                      0.986750   \n",
       "103                           0.956211                      0.982484   \n",
       "11                            0.957176                      0.978588   \n",
       "12                            0.959395                      0.979698   \n",
       "\n",
       "           log-sigma-3-0-mm-3D_glcm_InverseVariance  \\\n",
       "PatientID                                             \n",
       "1                                          0.114011   \n",
       "102                                        0.066250   \n",
       "103                                        0.087578   \n",
       "11                                         0.085648   \n",
       "12                                         0.081209   \n",
       "\n",
       "           log-sigma-3-0-mm-3D_glcm_MaximumProbability  \\\n",
       "PatientID                                                \n",
       "1                                             0.550751   \n",
       "102                                           0.731557   \n",
       "103                                           0.750952   \n",
       "11                                            0.610492   \n",
       "12                                            0.722927   \n",
       "\n",
       "           log-sigma-3-0-mm-3D_glcm_SumEntropy  \\\n",
       "PatientID                                        \n",
       "1                                     1.389324   \n",
       "102                                   1.065144   \n",
       "103                                   1.269011   \n",
       "11                                    1.430337   \n",
       "12                                    1.101705   \n",
       "\n",
       "           log-sigma-3-0-mm-3D_glcm_SumSquares  \n",
       "PatientID                                       \n",
       "1                                     0.247221  \n",
       "102                                   0.181750  \n",
       "103                                   0.203576  \n",
       "11                                    0.272906  \n",
       "12                                    0.182736  \n",
       "\n",
       "[5 rows x 257 columns]"
      ]
     },
     "execution_count": 153,
     "metadata": {},
     "output_type": "execute_result"
    }
   ],
   "source": [
    "df.head()"
   ]
  },
  {
   "cell_type": "markdown",
   "metadata": {},
   "source": [
    "### Save dataframe"
   ]
  },
  {
   "cell_type": "code",
   "execution_count": 154,
   "metadata": {},
   "outputs": [],
   "source": [
    "df.to_csv(\"data.csv\")"
   ]
  },
  {
   "cell_type": "code",
   "execution_count": null,
   "metadata": {},
   "outputs": [],
   "source": [
    "# df.columns.values"
   ]
  },
  {
   "cell_type": "code",
   "execution_count": 129,
   "metadata": {},
   "outputs": [],
   "source": [
    "columns = []\n",
    "for col in df.columns.values:\n",
    "    columns.append(col.replace(\"_\", \" \"))"
   ]
  },
  {
   "cell_type": "markdown",
   "metadata": {},
   "source": [
    "### Data splitting"
   ]
  },
  {
   "cell_type": "markdown",
   "metadata": {},
   "source": [
    "#### Drop the no response patient"
   ]
  },
  {
   "cell_type": "code",
   "execution_count": 155,
   "metadata": {},
   "outputs": [],
   "source": [
    "df = df[df.index!=16]"
   ]
  },
  {
   "cell_type": "markdown",
   "metadata": {},
   "source": [
    "### Balance dataset"
   ]
  },
  {
   "cell_type": "code",
   "execution_count": 359,
   "metadata": {},
   "outputs": [],
   "source": [
    "# max_size = df['Outcome'].value_counts().max()\n",
    "# lst = [df]\n",
    "# for class_index, group in df.groupby('Outcome'):\n",
    "#     lst.append(group.sample(max_size-len(group), replace=True))\n",
    "# dataframe_balanced = pd.concat(lst)"
   ]
  },
  {
   "cell_type": "code",
   "execution_count": 439,
   "metadata": {},
   "outputs": [],
   "source": [
    "# df = dataframe_balanced"
   ]
  },
  {
   "cell_type": "code",
   "execution_count": 156,
   "metadata": {},
   "outputs": [],
   "source": [
    "I = np.random.choice(df.shape[0],size=df.shape[0],replace=False)\n",
    "\n",
    "df_shuffled = df.iloc[I]"
   ]
  },
  {
   "cell_type": "code",
   "execution_count": 307,
   "metadata": {},
   "outputs": [],
   "source": [
    "# trainI = np.arange(0, int(df_shuffled.shape[0]*0.6))\n",
    "# testI = np.arange(df_shuffled.shape[0]*0.6, df_shuffled.shape[0]*0.8)\n",
    "# devI = np.arange(df_shuffled.shape[0]*0.8, df_shuffled.shape[0]*1)"
   ]
  },
  {
   "cell_type": "code",
   "execution_count": 157,
   "metadata": {},
   "outputs": [],
   "source": [
    "testI= np.array([1,8,13,20,40,44,49,55])\n",
    "testIndex = df_shuffled.index.isin(testI)\n"
   ]
  },
  {
   "cell_type": "code",
   "execution_count": 158,
   "metadata": {},
   "outputs": [],
   "source": [
    "test = df_shuffled.loc[testIndex]\n",
    "train_val = df_shuffled.loc[~testIndex]"
   ]
  },
  {
   "cell_type": "code",
   "execution_count": 159,
   "metadata": {},
   "outputs": [],
   "source": [
    "trainI = np.arange(0, int(train_val.shape[0]*0.8))\n",
    "devI = np.arange(int(train_val.shape[0]*0.8), int(train_val.shape[0]) )"
   ]
  },
  {
   "cell_type": "code",
   "execution_count": 160,
   "metadata": {},
   "outputs": [],
   "source": [
    "\n",
    "train = df_shuffled.iloc[trainI]\n",
    "# test = df_shuffled.iloc[testI]\n",
    "\n",
    "dev = df_shuffled.iloc[devI]\n",
    "\n",
    "featues_columns = df_shuffled.columns.values[1:]\n",
    "\n",
    "X_train = train[featues_columns]\n",
    "Y_train = train['Outcome']\n",
    "X_test = test[featues_columns]\n",
    "Y_test = test['Outcome']\n",
    "X_dev = dev[featues_columns]\n",
    "Y_dev = dev['Outcome']\n",
    "\n",
    "le = preprocessing.LabelEncoder()\n",
    "le.fit(df_shuffled['Outcome'])\n",
    "\n",
    "Y_train = le.transform(Y_train)\n",
    "Y_test  = le.transform(Y_test)\n",
    "Y_dev  = le.transform(Y_dev)"
   ]
  },
  {
   "cell_type": "code",
   "execution_count": 161,
   "metadata": {},
   "outputs": [
    {
     "name": "stdout",
     "output_type": "stream",
     "text": [
      "(24, 256)\n",
      "(8, 256)\n",
      "(6, 256)\n"
     ]
    }
   ],
   "source": [
    "print(X_train.shape)\n",
    "print(X_test.shape)\n",
    "print(X_dev.shape)"
   ]
  },
  {
   "cell_type": "code",
   "execution_count": 162,
   "metadata": {},
   "outputs": [
    {
     "data": {
      "text/plain": [
       "array(['Complete', 'Light', 'Tangible'], dtype=object)"
      ]
     },
     "execution_count": 162,
     "metadata": {},
     "output_type": "execute_result"
    }
   ],
   "source": [
    "le.classes_"
   ]
  },
  {
   "cell_type": "code",
   "execution_count": 163,
   "metadata": {},
   "outputs": [],
   "source": [
    "X_train_val = train_val[featues_columns]\n",
    "Y_train_val = train_val['Outcome']\n",
    "Y_train_val = le.transform(Y_train_val)"
   ]
  },
  {
   "cell_type": "code",
   "execution_count": 164,
   "metadata": {},
   "outputs": [
    {
     "data": {
      "text/plain": [
       "count           38\n",
       "unique           3\n",
       "top       Tangible\n",
       "freq            20\n",
       "Name: Outcome, dtype: object"
      ]
     },
     "execution_count": 164,
     "metadata": {},
     "output_type": "execute_result"
    }
   ],
   "source": [
    "df.Outcome.describe()"
   ]
  },
  {
   "cell_type": "code",
   "execution_count": 165,
   "metadata": {},
   "outputs": [
    {
     "data": {
      "text/plain": [
       "<AxesSubplot:>"
      ]
     },
     "execution_count": 165,
     "metadata": {},
     "output_type": "execute_result"
    },
    {
     "data": {
      "image/png": "[encoded data removed]",
      "text/plain": [
       "<Figure size 432x288 with 1 Axes>"
      ]
     },
     "metadata": {
      "needs_background": "light"
     },
     "output_type": "display_data"
    }
   ],
   "source": [
    "df.Outcome.hist()"
   ]
  },
  {
   "cell_type": "markdown",
   "metadata": {},
   "source": [
    "## K-fold cross validation"
   ]
  },
  {
   "cell_type": "code",
   "execution_count": 469,
   "metadata": {},
   "outputs": [
    {
     "data": {
      "image/png": "[encoded data removed]",
      "text/plain": [
       "<Figure size 432x288 with 1 Axes>"
      ]
     },
     "metadata": {
      "needs_background": "light"
     },
     "output_type": "display_data"
    }
   ],
   "source": [
    "X = df_shuffled[featues_columns]\n",
    "y = df_shuffled['Outcome']\n",
    "n_fold = 3\n",
    "cv = skl_ms.KFold(n_splits=n_fold, random_state=2,shuffle=True);\n",
    "K = np.arange(1,200)\n",
    "misclassification = np.zeros(len(K))\n",
    "\n",
    "for train_index, val_index in cv.split(X):\n",
    "  x_train, x_val = X.iloc[train_index], X.iloc[val_index]\n",
    "  y_train, y_val = y.iloc[train_index], y.iloc[val_index]\n",
    "  for j,k in enumerate(K):\n",
    "    model = svm.SVC(decision_function_shape='ovo',class_weight='balanced')\n",
    "#     model = XGBClassifier(num_class=3, objective='multi:softmax')\n",
    "    model.fit(x_train,y_train)\n",
    "    prediction = model.predict(x_val)\n",
    "    misclassification[j] += np.mean(prediction!=y_val)\n",
    "\n",
    "misclassification /= n_fold\n",
    "\n",
    "for i, mis in enumerate(misclassification):\n",
    "  if i==0:\n",
    "    min_i = i;\n",
    "    min_e = misclassification[0];\n",
    "  elif min_e >= mis:\n",
    "    min_e = mis\n",
    "    min_i = i \n",
    "\n",
    "\n",
    "\n",
    "plt.plot(K,misclassification)\n",
    "plt.show()\n",
    "  "
   ]
  },
  {
   "cell_type": "code",
   "execution_count": 470,
   "metadata": {},
   "outputs": [
    {
     "name": "stdout",
     "output_type": "stream",
     "text": [
      "0.7115384615384616\n",
      "198\n"
     ]
    }
   ],
   "source": [
    "print(min_e)\n",
    "print(min_i)"
   ]
  },
  {
   "cell_type": "markdown",
   "metadata": {},
   "source": [
    "### Feature selection: ANOVA"
   ]
  },
  {
   "cell_type": "code",
   "execution_count": 116,
   "metadata": {},
   "outputs": [],
   "source": [
    "anova = SelectPercentile(f_classif)"
   ]
  },
  {
   "cell_type": "markdown",
   "metadata": {},
   "source": [
    "## SVM"
   ]
  },
  {
   "cell_type": "code",
   "execution_count": null,
   "metadata": {},
   "outputs": [],
   "source": []
  },
  {
   "cell_type": "code",
   "execution_count": 118,
   "metadata": {},
   "outputs": [
    {
     "data": {
      "text/plain": [
       "SVC(decision_function_shape='ovo')"
      ]
     },
     "execution_count": 118,
     "metadata": {},
     "output_type": "execute_result"
    }
   ],
   "source": [
    "model_svm = svm.SVC(decision_function_shape='ovo')\n",
    "model_svm.fit(X_train_val, Y_train_val.ravel())"
   ]
  },
  {
   "cell_type": "code",
   "execution_count": 119,
   "metadata": {},
   "outputs": [
    {
     "name": "stdout",
     "output_type": "stream",
     "text": [
      "Prediction [2 2 2 2 2 2 2 2]\n",
      "0.5\n"
     ]
    }
   ],
   "source": [
    "Y_pred_test_svm = model_svm.predict(X_test)\n",
    "accuracy_test_svm = accuracy_score(Y_test.ravel(), Y_pred_test_svm)\n",
    "print(\"Prediction\",Y_pred_test_svm)\n",
    "print(accuracy_test_svm)"
   ]
  },
  {
   "cell_type": "code",
   "execution_count": 120,
   "metadata": {},
   "outputs": [
    {
     "name": "stdout",
     "output_type": "stream",
     "text": [
      "              precision    recall  f1-score   support\n",
      "\n",
      "           0       0.00      0.00      0.00         2\n",
      "           1       0.00      0.00      0.00         2\n",
      "           2       0.50      1.00      0.67         4\n",
      "\n",
      "    accuracy                           0.50         8\n",
      "   macro avg       0.17      0.33      0.22         8\n",
      "weighted avg       0.25      0.50      0.33         8\n",
      "\n"
     ]
    },
    {
     "name": "stderr",
     "output_type": "stream",
     "text": [
      "c:\\python37\\lib\\site-packages\\sklearn\\metrics\\_classification.py:1221: UndefinedMetricWarning: Precision and F-score are ill-defined and being set to 0.0 in labels with no predicted samples. Use `zero_division` parameter to control this behavior.\n",
      "  _warn_prf(average, modifier, msg_start, len(result))\n"
     ]
    }
   ],
   "source": [
    "print(metrics.classification_report(Y_test, Y_pred_test_svm))"
   ]
  },
  {
   "cell_type": "markdown",
   "metadata": {},
   "source": [
    "## XGBoost"
   ]
  },
  {
   "cell_type": "code",
   "execution_count": 167,
   "metadata": {},
   "outputs": [],
   "source": [
    "# X_train_val"
   ]
  },
  {
   "cell_type": "code",
   "execution_count": 171,
   "metadata": {},
   "outputs": [
    {
     "data": {
      "text/plain": [
       "XGBClassifier(num_class=3, objective='multi:softprob')"
      ]
     },
     "execution_count": 171,
     "metadata": {},
     "output_type": "execute_result"
    }
   ],
   "source": [
    "model_xgboost = XGBClassifier(num_class=3, objective='multi:softmax')\n",
    "model_xgboost.fit(X_train_val[selected_features], Y_train_val.ravel())"
   ]
  },
  {
   "cell_type": "code",
   "execution_count": 175,
   "metadata": {},
   "outputs": [
    {
     "ename": "NameError",
     "evalue": "name 'selected_features' is not defined",
     "output_type": "error",
     "traceback": [
      "\u001b[1;31m---------------------------------------------------------------------------\u001b[0m",
      "\u001b[1;31mNameError\u001b[0m                                 Traceback (most recent call last)",
      "\u001b[1;32m<ipython-input-175-f6b7c6335652>\u001b[0m in \u001b[0;36m<module>\u001b[1;34m\u001b[0m\n\u001b[1;32m----> 1\u001b[1;33m \u001b[0mY_pred_test\u001b[0m \u001b[1;33m=\u001b[0m \u001b[0mmodel_xgboost\u001b[0m\u001b[1;33m.\u001b[0m\u001b[0mpredict\u001b[0m\u001b[1;33m(\u001b[0m\u001b[0mX_test\u001b[0m\u001b[1;33m[\u001b[0m\u001b[0mselected_features\u001b[0m\u001b[1;33m]\u001b[0m\u001b[1;33m)\u001b[0m\u001b[1;33m\u001b[0m\u001b[1;33m\u001b[0m\u001b[0m\n\u001b[0m\u001b[0;32m      2\u001b[0m \u001b[0maccuracy_test\u001b[0m \u001b[1;33m=\u001b[0m \u001b[0maccuracy_score\u001b[0m\u001b[1;33m(\u001b[0m\u001b[0mY_test\u001b[0m\u001b[1;33m.\u001b[0m\u001b[0mravel\u001b[0m\u001b[1;33m(\u001b[0m\u001b[1;33m)\u001b[0m\u001b[1;33m,\u001b[0m \u001b[0mY_pred_test\u001b[0m\u001b[1;33m)\u001b[0m\u001b[1;33m\u001b[0m\u001b[1;33m\u001b[0m\u001b[0m\n\u001b[0;32m      3\u001b[0m \u001b[0mprint\u001b[0m\u001b[1;33m(\u001b[0m\u001b[0maccuracy_test\u001b[0m\u001b[1;33m)\u001b[0m\u001b[1;33m\u001b[0m\u001b[1;33m\u001b[0m\u001b[0m\n",
      "\u001b[1;31mNameError\u001b[0m: name 'selected_features' is not defined"
     ]
    }
   ],
   "source": [
    "Y_pred_test = model_xgboost.predict(X_test[selected_features])\n",
    "accuracy_test = accuracy_score(Y_test.ravel(), Y_pred_test)\n",
    "print(accuracy_test)"
   ]
  },
  {
   "cell_type": "code",
   "execution_count": 174,
   "metadata": {},
   "outputs": [
    {
     "name": "stdout",
     "output_type": "stream",
     "text": [
      "              precision    recall  f1-score   support\n",
      "\n",
      "           0       0.00      0.00      0.00         2\n",
      "           1       0.00      0.00      0.00         2\n",
      "           2       0.33      0.50      0.40         4\n",
      "\n",
      "    accuracy                           0.25         8\n",
      "   macro avg       0.11      0.17      0.13         8\n",
      "weighted avg       0.17      0.25      0.20         8\n",
      "\n"
     ]
    },
    {
     "name": "stderr",
     "output_type": "stream",
     "text": [
      "c:\\python37\\lib\\site-packages\\sklearn\\metrics\\_classification.py:1221: UndefinedMetricWarning: Precision and F-score are ill-defined and being set to 0.0 in labels with no predicted samples. Use `zero_division` parameter to control this behavior.\n",
      "  _warn_prf(average, modifier, msg_start, len(result))\n"
     ]
    }
   ],
   "source": [
    "print(metrics.classification_report(Y_test, Y_pred_test))"
   ]
  },
  {
   "cell_type": "markdown",
   "metadata": {},
   "source": [
    "### Tune the hyper-parameters of XGBoostClassifier"
   ]
  },
  {
   "cell_type": "code",
   "execution_count": 149,
   "metadata": {},
   "outputs": [],
   "source": [
    "def modelfit(alg, x_train, y_train, x_test, y_test, useTrainCV=True, cv_folds=5, early_stopping_rounds=50):\n",
    "    if useTrainCV:\n",
    "        xgb_param = alg.get_xgb_params()\n",
    "        xgtrain = xgb.DMatrix(x_train, y_train)\n",
    "        cvresult = xgb.cv(xgb_param, xgtrain, num_boost_round=alg.get_params()['n_estimators'], nfold=cv_folds,\n",
    "            metrics='merror', early_stopping_rounds=early_stopping_rounds)\n",
    "        alg.set_params(n_estimators=cvresult.shape[0])\n",
    "    \n",
    "    #Fit the algorithm on the data\n",
    "    alg = alg.fit(x_train, y_train,eval_metric='auc')\n",
    "        \n",
    "    #Predict training set:\n",
    "    dtrain_predictions = alg.predict(x_train)\n",
    "    dtrain_predprob = alg.predict_proba(x_train)[:,1]\n",
    "        \n",
    "    #Print model report:\n",
    "    print(\"\\nModel Report\")\n",
    "    print(\"Accuracy : %.4g\" % metrics.accuracy_score(y_train, dtrain_predictions))\n",
    "    \n",
    "#     Predict on testing data:\n",
    "    dtest_predictions = alg.predict(x_test)\n",
    "    dtest_predprob = alg.predict_proba(x_test)[:,1]\n",
    "    print('Accuracy Score (Test): %f' % metrics.accuracy_score(y_test, dtest_predictions))\n",
    "    feat_imp = pd.Series(alg.get_booster().get_fscore()).sort_values(ascending=False)\n",
    "    feat_imp[feat_imp>1].plot(kind='bar', title='Feature Importances')\n",
    "#     print()\n",
    "    plt.ylabel('Feature Importance Score')\n",
    "    return feat_imp[feat_imp>1]"
   ]
  },
  {
   "cell_type": "code",
   "execution_count": 179,
   "metadata": {},
   "outputs": [],
   "source": [
    "xgb1 = XGBClassifier(\n",
    "        learning_rate =0.1,\n",
    "        n_estimators=1000,\n",
    "        max_depth=3,\n",
    "        min_child_weight=1,\n",
    "        gamma=0,\n",
    "        subsample=0.8,\n",
    "        colsample_bytree=0.8,\n",
    "        nthread=4,\n",
    "        scale_pos_weight=1,\n",
    "        num_class=3, \n",
    "        objective='multi:softmax',\n",
    "        seed=27)"
   ]
  },
  {
   "cell_type": "markdown",
   "metadata": {},
   "source": [
    "### Feature selection"
   ]
  },
  {
   "cell_type": "code",
   "execution_count": 180,
   "metadata": {},
   "outputs": [
    {
     "name": "stdout",
     "output_type": "stream",
     "text": [
      "\n",
      "Model Report\n",
      "Accuracy : 1\n",
      "Accuracy Score (Test): 0.250000\n"
     ]
    },
    {
     "data": {
      "image/png": "[encoded data removed]",
      "text/plain": [
       "<Figure size 432x288 with 1 Axes>"
      ]
     },
     "metadata": {
      "needs_background": "light"
     },
     "output_type": "display_data"
    }
   ],
   "source": [
    "xx = modelfit(xgb1, X_train_val, Y_train_val, X_test, Y_test, useTrainCV=True, cv_folds=5, early_stopping_rounds=50)"
   ]
  },
  {
   "cell_type": "code",
   "execution_count": 247,
   "metadata": {},
   "outputs": [
    {
     "name": "stdout",
     "output_type": "stream",
     "text": [
      "31\n"
     ]
    }
   ],
   "source": [
    "selected_features = xx.index.values\n",
    "print(len(selected_features ))"
   ]
  },
  {
   "cell_type": "code",
   "execution_count": null,
   "metadata": {},
   "outputs": [],
   "source": []
  },
  {
   "cell_type": "code",
   "execution_count": 174,
   "metadata": {},
   "outputs": [
    {
     "name": "stderr",
     "output_type": "stream",
     "text": [
      "c:\\python37\\lib\\site-packages\\sklearn\\model_selection\\_search.py:849: FutureWarning: The parameter 'iid' is deprecated in 0.22 and will be removed in 0.24.\n",
      "  \"removed in 0.24.\", FutureWarning\n"
     ]
    },
    {
     "data": {
      "text/plain": [
       "GridSearchCV(cv=5,\n",
       "             estimator=XGBClassifier(colsample_bytree=0.8, max_depth=5,\n",
       "                                     n_estimators=140, nthread=4, num_class=3,\n",
       "                                     objective='multi:softmax', seed=27,\n",
       "                                     subsample=0.8),\n",
       "             iid=False, n_jobs=4,\n",
       "             param_grid={'gamma': [0.0, 0.1, 0.2, 0.3, 0.4],\n",
       "                         'max_depth': range(1, 10, 2),\n",
       "                         'min_child_weight': range(1, 6, 2)},\n",
       "             scoring='balanced_accuracy')"
      ]
     },
     "execution_count": 174,
     "metadata": {},
     "output_type": "execute_result"
    }
   ],
   "source": [
    "param_test1 = {\n",
    "    'max_depth':range(1,10,2),\n",
    "    'min_child_weight':range(1,6,2),\n",
    "    'gamma':[i/10.0 for i in range(0,5)]\n",
    "}\n",
    "gsearch1 = GridSearchCV(estimator = XGBClassifier( learning_rate =0.1, n_estimators=140, max_depth=5,\n",
    "                                        min_child_weight=1, gamma=0, subsample=0.8, colsample_bytree=0.8,\n",
    "                                                  nthread=4, scale_pos_weight=1, seed=27, num_class=3, objective='multi:softmax',), \n",
    "                       param_grid = param_test1, scoring='balanced_accuracy',n_jobs=4,iid=False, cv=5)\n",
    "gsearch1.fit(X_train_val[selected_features], Y_train_val)"
   ]
  },
  {
   "cell_type": "code",
   "execution_count": null,
   "metadata": {},
   "outputs": [],
   "source": [
    "gsearch1.cv_results_"
   ]
  },
  {
   "cell_type": "code",
   "execution_count": 176,
   "metadata": {},
   "outputs": [
    {
     "data": {
      "text/plain": [
       "0.5666666666666667"
      ]
     },
     "execution_count": 176,
     "metadata": {},
     "output_type": "execute_result"
    }
   ],
   "source": [
    "gsearch1.best_score_"
   ]
  },
  {
   "cell_type": "code",
   "execution_count": 177,
   "metadata": {},
   "outputs": [
    {
     "data": {
      "text/plain": [
       "{'gamma': 0.0, 'max_depth': 3, 'min_child_weight': 1}"
      ]
     },
     "execution_count": 177,
     "metadata": {},
     "output_type": "execute_result"
    }
   ],
   "source": [
    "gsearch1.best_params_"
   ]
  },
  {
   "cell_type": "code",
   "execution_count": 178,
   "metadata": {},
   "outputs": [
    {
     "data": {
      "text/plain": [
       "dict_keys(['explained_variance', 'r2', 'max_error', 'neg_median_absolute_error', 'neg_mean_absolute_error', 'neg_mean_squared_error', 'neg_mean_squared_log_error', 'neg_root_mean_squared_error', 'neg_mean_poisson_deviance', 'neg_mean_gamma_deviance', 'accuracy', 'roc_auc', 'roc_auc_ovr', 'roc_auc_ovo', 'roc_auc_ovr_weighted', 'roc_auc_ovo_weighted', 'balanced_accuracy', 'average_precision', 'neg_log_loss', 'neg_brier_score', 'adjusted_rand_score', 'homogeneity_score', 'completeness_score', 'v_measure_score', 'mutual_info_score', 'adjusted_mutual_info_score', 'normalized_mutual_info_score', 'fowlkes_mallows_score', 'precision', 'precision_macro', 'precision_micro', 'precision_samples', 'precision_weighted', 'recall', 'recall_macro', 'recall_micro', 'recall_samples', 'recall_weighted', 'f1', 'f1_macro', 'f1_micro', 'f1_samples', 'f1_weighted', 'jaccard', 'jaccard_macro', 'jaccard_micro', 'jaccard_samples', 'jaccard_weighted'])"
      ]
     },
     "execution_count": 178,
     "metadata": {},
     "output_type": "execute_result"
    }
   ],
   "source": [
    "sklearn.metrics.SCORERS.keys()"
   ]
  },
  {
   "cell_type": "markdown",
   "metadata": {},
   "source": [
    "## Neural network"
   ]
  },
  {
   "cell_type": "code",
   "execution_count": 106,
   "metadata": {},
   "outputs": [],
   "source": [
    "import torch \n",
    "from torch import nn \n",
    "import torch.nn.functional as F\n",
    "from torch.utils.data import Dataset,DataLoader,TensorDataset\n",
    "from tensorboardX import SummaryWriter"
   ]
  },
  {
   "cell_type": "code",
   "execution_count": 60,
   "metadata": {},
   "outputs": [],
   "source": [
    "def printbar():\n",
    "    nowtime = datetime.datetime.now().strftime('%Y-%m-%d %H:%M:%S')\n",
    "    print(\"\\n\"+\"==========\"*8 + \"%s\"%nowtime)"
   ]
  },
  {
   "cell_type": "code",
   "execution_count": 107,
   "metadata": {},
   "outputs": [],
   "source": [
    "x_train = X_train[selected_features].values\n",
    "y_train = Y_train\n",
    "x_test = X_test[selected_features].values\n",
    "y_test = Y_test\n",
    "x_dev = X_dev[selected_features].values\n",
    "\n",
    "y_dev = Y_dev\n",
    "\n",
    "dl_train = DataLoader(TensorDataset(torch.tensor(x_train).float(),torch.tensor(y_train).long()),\n",
    "                     shuffle = True, batch_size = 2)\n",
    "dl_valid = DataLoader(TensorDataset(torch.tensor(x_dev).float(),torch.tensor(y_dev).long()),\n",
    "                     shuffle = False, batch_size = 2)\n",
    "dl_test = DataLoader(TensorDataset(torch.tensor(x_test).float(),torch.tensor(y_test).long()),\n",
    "                     shuffle = False, batch_size = 2)"
   ]
  },
  {
   "cell_type": "code",
   "execution_count": 108,
   "metadata": {},
   "outputs": [
    {
     "name": "stdout",
     "output_type": "stream",
     "text": [
      "(8, 26)\n",
      "(24, 26)\n",
      "(6, 26)\n"
     ]
    }
   ],
   "source": [
    "print(x_test.shape)\n",
    "print(x_train.shape)\n",
    "print(x_dev.shape)"
   ]
  },
  {
   "cell_type": "code",
   "execution_count": 109,
   "metadata": {},
   "outputs": [],
   "source": [
    "def create_net():\n",
    "    net = nn.Sequential(\n",
    "        nn.Linear(31, 128),\n",
    "        nn.ReLU(),\n",
    "        nn.Dropout(0.75),\n",
    "        nn.Linear(128, 64),\n",
    "        nn.ReLU(),\n",
    "        nn.Linear(64, 3),\n",
    "    )\n",
    "    return net"
   ]
  },
  {
   "cell_type": "code",
   "execution_count": 110,
   "metadata": {},
   "outputs": [
    {
     "name": "stdout",
     "output_type": "stream",
     "text": [
      "Sequential(\n",
      "  (0): Linear(in_features=26, out_features=128, bias=True)\n",
      "  (1): ReLU()\n",
      "  (2): Dropout(p=0.75, inplace=False)\n",
      "  (3): Linear(in_features=128, out_features=64, bias=True)\n",
      "  (4): ReLU()\n",
      "  (5): Linear(in_features=64, out_features=3, bias=True)\n",
      ")\n"
     ]
    }
   ],
   "source": [
    "net = create_net()\n",
    "print(net)\n",
    "optimizer = torch.optim.Adam(params=net.parameters(),lr = 1e-2)\n",
    "from torch.optim.lr_scheduler import CosineAnnealingLR, \\\n",
    "    CosineAnnealingWarmRestarts, StepLR, MultiStepLR, ExponentialLR\n",
    "metric_name = \"accuracy\""
   ]
  },
  {
   "cell_type": "code",
   "execution_count": 111,
   "metadata": {},
   "outputs": [
    {
     "name": "stdout",
     "output_type": "stream",
     "text": [
      "Start Training...\n",
      "================================================================================2021-01-09 10:20:54\n",
      "\n",
      "EPOCH = 1, loss = 3.96258,accuracy  = 0.37500, val_loss = 0.94279, val_accuracy = 0.66667\n",
      "\n",
      "EPOCH = 2, loss = 3.47997,accuracy  = 0.37500, val_loss = 1.52160, val_accuracy = 0.66667\n",
      "\n",
      "EPOCH = 3, loss = 2.19583,accuracy  = 0.33333, val_loss = 1.16636, val_accuracy = 0.16667\n",
      "\n",
      "EPOCH = 4, loss = 2.09613,accuracy  = 0.20833, val_loss = 1.17912, val_accuracy = 0.16667\n",
      "\n",
      "EPOCH = 5, loss = 1.36598,accuracy  = 0.33333, val_loss = 0.90337, val_accuracy = 0.66667\n",
      "\n",
      "EPOCH = 6, loss = 1.43604,accuracy  = 0.54167, val_loss = 0.99997, val_accuracy = 0.66667\n",
      "\n",
      "EPOCH = 7, loss = 0.85851,accuracy  = 0.66667, val_loss = 1.06272, val_accuracy = 0.33333\n",
      "\n",
      "EPOCH = 8, loss = 1.59512,accuracy  = 0.41667, val_loss = 0.93171, val_accuracy = 0.66667\n",
      "\n",
      "EPOCH = 9, loss = 1.03550,accuracy  = 0.50000, val_loss = 0.95457, val_accuracy = 0.66667\n",
      "\n",
      "EPOCH = 10, loss = 1.19146,accuracy  = 0.50000, val_loss = 1.27352, val_accuracy = 0.16667\n",
      "\n",
      "EPOCH = 11, loss = 1.14446,accuracy  = 0.58333, val_loss = 1.08389, val_accuracy = 0.66667\n",
      "\n",
      "EPOCH = 12, loss = 1.08843,accuracy  = 0.58333, val_loss = 1.32193, val_accuracy = 0.33333\n",
      "\n",
      "EPOCH = 13, loss = 1.17919,accuracy  = 0.45833, val_loss = 1.90120, val_accuracy = 0.16667\n",
      "\n",
      "EPOCH = 14, loss = 1.61956,accuracy  = 0.50000, val_loss = 1.01306, val_accuracy = 0.50000\n",
      "\n",
      "EPOCH = 15, loss = 1.32932,accuracy  = 0.29167, val_loss = 0.88963, val_accuracy = 0.66667\n",
      "\n",
      "EPOCH = 16, loss = 1.23623,accuracy  = 0.37500, val_loss = 0.88723, val_accuracy = 0.66667\n",
      "\n",
      "EPOCH = 17, loss = 1.11110,accuracy  = 0.37500, val_loss = 1.18138, val_accuracy = 0.16667\n",
      "\n",
      "EPOCH = 18, loss = 0.96562,accuracy  = 0.54167, val_loss = 1.00390, val_accuracy = 0.33333\n",
      "\n",
      "EPOCH = 19, loss = 1.30694,accuracy  = 0.66667, val_loss = 0.82980, val_accuracy = 0.66667\n",
      "\n",
      "EPOCH = 20, loss = 1.44927,accuracy  = 0.41667, val_loss = 0.86463, val_accuracy = 0.66667\n",
      "\n",
      "EPOCH = 21, loss = 0.95547,accuracy  = 0.62500, val_loss = 0.87137, val_accuracy = 0.66667\n",
      "\n",
      "EPOCH = 22, loss = 0.88476,accuracy  = 0.50000, val_loss = 0.96452, val_accuracy = 0.66667\n",
      "\n",
      "EPOCH = 23, loss = 0.98172,accuracy  = 0.41667, val_loss = 1.11557, val_accuracy = 0.66667\n",
      "\n",
      "EPOCH = 24, loss = 0.91062,accuracy  = 0.62500, val_loss = 0.89355, val_accuracy = 0.66667\n",
      "\n",
      "EPOCH = 25, loss = 0.83559,accuracy  = 0.62500, val_loss = 0.89983, val_accuracy = 0.66667\n",
      "\n",
      "EPOCH = 26, loss = 1.37821,accuracy  = 0.50000, val_loss = 0.90786, val_accuracy = 0.66667\n",
      "\n",
      "EPOCH = 27, loss = 0.77459,accuracy  = 0.54167, val_loss = 0.95443, val_accuracy = 0.66667\n",
      "\n",
      "EPOCH = 28, loss = 0.94097,accuracy  = 0.37500, val_loss = 1.24505, val_accuracy = 0.66667\n",
      "\n",
      "EPOCH = 29, loss = 0.90081,accuracy  = 0.45833, val_loss = 0.89476, val_accuracy = 0.66667\n",
      "\n",
      "EPOCH = 30, loss = 0.84297,accuracy  = 0.54167, val_loss = 0.88145, val_accuracy = 0.66667\n",
      "\n",
      "EPOCH = 31, loss = 1.02998,accuracy  = 0.62500, val_loss = 0.91333, val_accuracy = 0.66667\n",
      "\n",
      "EPOCH = 32, loss = 0.76886,accuracy  = 0.54167, val_loss = 1.10736, val_accuracy = 0.66667\n",
      "\n",
      "EPOCH = 33, loss = 1.49225,accuracy  = 0.41667, val_loss = 0.93788, val_accuracy = 0.66667\n",
      "\n",
      "EPOCH = 34, loss = 1.32132,accuracy  = 0.37500, val_loss = 1.06184, val_accuracy = 0.50000\n",
      "\n",
      "EPOCH = 35, loss = 0.93526,accuracy  = 0.50000, val_loss = 1.10235, val_accuracy = 0.66667\n",
      "\n",
      "EPOCH = 36, loss = 0.95607,accuracy  = 0.50000, val_loss = 1.14034, val_accuracy = 0.66667\n",
      "\n",
      "EPOCH = 37, loss = 1.84065,accuracy  = 0.54167, val_loss = 1.30185, val_accuracy = 0.66667\n",
      "\n",
      "EPOCH = 38, loss = 1.05933,accuracy  = 0.45833, val_loss = 1.44732, val_accuracy = 0.66667\n",
      "\n",
      "EPOCH = 39, loss = 1.15695,accuracy  = 0.45833, val_loss = 1.41027, val_accuracy = 0.66667\n",
      "\n",
      "EPOCH = 40, loss = 0.87859,accuracy  = 0.54167, val_loss = 1.29708, val_accuracy = 0.66667\n",
      "\n",
      "EPOCH = 41, loss = 1.80698,accuracy  = 0.50000, val_loss = 0.99122, val_accuracy = 0.66667\n",
      "\n",
      "EPOCH = 42, loss = 1.32407,accuracy  = 0.29167, val_loss = 1.02333, val_accuracy = 0.16667\n",
      "\n",
      "EPOCH = 43, loss = 1.27295,accuracy  = 0.41667, val_loss = 0.96557, val_accuracy = 0.66667\n",
      "\n",
      "EPOCH = 44, loss = 1.02882,accuracy  = 0.45833, val_loss = 0.93891, val_accuracy = 0.66667\n",
      "\n",
      "EPOCH = 45, loss = 1.01853,accuracy  = 0.58333, val_loss = 0.88598, val_accuracy = 0.66667\n",
      "\n",
      "EPOCH = 46, loss = 1.04867,accuracy  = 0.45833, val_loss = 0.91074, val_accuracy = 0.66667\n",
      "\n",
      "EPOCH = 47, loss = 1.28392,accuracy  = 0.54167, val_loss = 0.84567, val_accuracy = 0.66667\n",
      "\n",
      "EPOCH = 48, loss = 0.75810,accuracy  = 0.58333, val_loss = 0.92048, val_accuracy = 0.66667\n",
      "\n",
      "EPOCH = 49, loss = 0.84007,accuracy  = 0.58333, val_loss = 0.84056, val_accuracy = 0.66667\n",
      "\n",
      "EPOCH = 50, loss = 0.87084,accuracy  = 0.54167, val_loss = 0.88077, val_accuracy = 0.66667\n",
      "\n",
      "EPOCH = 51, loss = 1.81619,accuracy  = 0.54167, val_loss = 0.86064, val_accuracy = 0.66667\n",
      "\n",
      "EPOCH = 52, loss = 1.26020,accuracy  = 0.54167, val_loss = 0.89929, val_accuracy = 0.66667\n",
      "\n",
      "EPOCH = 53, loss = 1.03686,accuracy  = 0.50000, val_loss = 1.13228, val_accuracy = 0.33333\n",
      "\n",
      "EPOCH = 54, loss = 0.94072,accuracy  = 0.54167, val_loss = 1.20754, val_accuracy = 0.33333\n",
      "\n",
      "EPOCH = 55, loss = 1.17147,accuracy  = 0.45833, val_loss = 1.05518, val_accuracy = 0.33333\n",
      "\n",
      "EPOCH = 56, loss = 1.01392,accuracy  = 0.45833, val_loss = 0.92500, val_accuracy = 0.66667\n",
      "\n",
      "EPOCH = 57, loss = 0.95160,accuracy  = 0.50000, val_loss = 0.90914, val_accuracy = 0.66667\n",
      "\n",
      "EPOCH = 58, loss = 1.03572,accuracy  = 0.50000, val_loss = 0.89592, val_accuracy = 0.66667\n",
      "\n",
      "EPOCH = 59, loss = 0.91521,accuracy  = 0.45833, val_loss = 0.88211, val_accuracy = 0.83333\n",
      "\n",
      "EPOCH = 60, loss = 0.92600,accuracy  = 0.50000, val_loss = 0.84453, val_accuracy = 0.83333\n",
      "\n",
      "EPOCH = 61, loss = 0.72103,accuracy  = 0.58333, val_loss = 0.81038, val_accuracy = 0.66667\n",
      "\n",
      "EPOCH = 62, loss = 1.49473,accuracy  = 0.54167, val_loss = 1.51785, val_accuracy = 0.16667\n",
      "\n",
      "EPOCH = 63, loss = 0.95706,accuracy  = 0.54167, val_loss = 2.19380, val_accuracy = 0.16667\n",
      "\n",
      "EPOCH = 64, loss = 1.15133,accuracy  = 0.54167, val_loss = 2.57045, val_accuracy = 0.16667\n",
      "\n",
      "EPOCH = 65, loss = 1.19779,accuracy  = 0.50000, val_loss = 1.88290, val_accuracy = 0.16667\n",
      "\n",
      "EPOCH = 66, loss = 1.15660,accuracy  = 0.50000, val_loss = 1.60782, val_accuracy = 0.16667\n",
      "\n",
      "EPOCH = 67, loss = 0.95372,accuracy  = 0.54167, val_loss = 1.12013, val_accuracy = 0.33333\n",
      "\n",
      "EPOCH = 68, loss = 0.71988,accuracy  = 0.58333, val_loss = 1.00732, val_accuracy = 0.50000\n",
      "\n",
      "EPOCH = 69, loss = 0.85349,accuracy  = 0.50000, val_loss = 1.13904, val_accuracy = 0.66667\n",
      "\n",
      "EPOCH = 70, loss = 0.76143,accuracy  = 0.58333, val_loss = 1.60361, val_accuracy = 0.66667\n",
      "\n",
      "EPOCH = 71, loss = 1.07199,accuracy  = 0.58333, val_loss = 1.10599, val_accuracy = 0.66667\n",
      "\n",
      "EPOCH = 72, loss = 0.82241,accuracy  = 0.50000, val_loss = 0.90387, val_accuracy = 0.66667\n",
      "\n",
      "EPOCH = 73, loss = 1.04049,accuracy  = 0.37500, val_loss = 0.96183, val_accuracy = 0.33333\n",
      "\n",
      "EPOCH = 74, loss = 0.83111,accuracy  = 0.54167, val_loss = 0.94212, val_accuracy = 0.66667\n",
      "\n",
      "EPOCH = 75, loss = 1.02493,accuracy  = 0.50000, val_loss = 0.95167, val_accuracy = 0.83333\n",
      "\n",
      "EPOCH = 76, loss = 1.58013,accuracy  = 0.50000, val_loss = 1.24971, val_accuracy = 0.33333\n",
      "\n",
      "EPOCH = 77, loss = 0.79316,accuracy  = 0.54167, val_loss = 1.40763, val_accuracy = 0.16667\n",
      "\n",
      "EPOCH = 78, loss = 1.05454,accuracy  = 0.62500, val_loss = 1.43137, val_accuracy = 0.33333\n",
      "\n",
      "EPOCH = 79, loss = 0.96495,accuracy  = 0.50000, val_loss = 1.19942, val_accuracy = 0.66667\n",
      "\n",
      "EPOCH = 80, loss = 0.93713,accuracy  = 0.50000, val_loss = 1.51582, val_accuracy = 0.66667\n",
      "\n",
      "EPOCH = 81, loss = 0.95932,accuracy  = 0.45833, val_loss = 1.47032, val_accuracy = 0.66667\n",
      "\n",
      "EPOCH = 82, loss = 0.79098,accuracy  = 0.58333, val_loss = 1.46773, val_accuracy = 0.66667\n",
      "\n",
      "EPOCH = 83, loss = 0.91990,accuracy  = 0.50000, val_loss = 1.84508, val_accuracy = 0.66667\n",
      "\n",
      "EPOCH = 84, loss = 1.46636,accuracy  = 0.54167, val_loss = 1.03804, val_accuracy = 0.66667\n",
      "\n",
      "EPOCH = 85, loss = 1.12995,accuracy  = 0.37500, val_loss = 0.91509, val_accuracy = 0.66667\n",
      "\n",
      "EPOCH = 86, loss = 0.91839,accuracy  = 0.45833, val_loss = 0.97439, val_accuracy = 0.66667\n",
      "\n",
      "EPOCH = 87, loss = 0.80808,accuracy  = 0.54167, val_loss = 0.94811, val_accuracy = 0.66667\n",
      "\n",
      "EPOCH = 88, loss = 0.86505,accuracy  = 0.54167, val_loss = 1.02151, val_accuracy = 0.66667\n",
      "\n",
      "EPOCH = 89, loss = 0.84139,accuracy  = 0.54167, val_loss = 1.03318, val_accuracy = 0.66667\n",
      "\n",
      "EPOCH = 90, loss = 0.82382,accuracy  = 0.58333, val_loss = 1.02239, val_accuracy = 0.66667\n",
      "\n",
      "EPOCH = 91, loss = 0.78918,accuracy  = 0.58333, val_loss = 1.05284, val_accuracy = 0.66667\n",
      "\n",
      "EPOCH = 92, loss = 0.91498,accuracy  = 0.50000, val_loss = 1.06175, val_accuracy = 0.66667\n",
      "\n",
      "EPOCH = 93, loss = 0.90124,accuracy  = 0.62500, val_loss = 1.00944, val_accuracy = 0.66667\n",
      "\n",
      "EPOCH = 94, loss = 0.84137,accuracy  = 0.50000, val_loss = 1.21646, val_accuracy = 0.66667\n",
      "\n",
      "EPOCH = 95, loss = 1.03863,accuracy  = 0.50000, val_loss = 1.40312, val_accuracy = 0.66667\n",
      "\n",
      "EPOCH = 96, loss = 0.95867,accuracy  = 0.50000, val_loss = 0.99821, val_accuracy = 0.50000\n",
      "\n",
      "EPOCH = 97, loss = 0.81948,accuracy  = 0.58333, val_loss = 1.15184, val_accuracy = 0.50000\n",
      "\n",
      "EPOCH = 98, loss = 0.79746,accuracy  = 0.58333, val_loss = 1.09919, val_accuracy = 0.50000\n",
      "\n",
      "EPOCH = 99, loss = 0.74605,accuracy  = 0.58333, val_loss = 0.93761, val_accuracy = 0.66667\n",
      "\n",
      "EPOCH = 100, loss = 1.01314,accuracy  = 0.50000, val_loss = 0.90249, val_accuracy = 0.66667\n",
      "Finished Training...\n"
     ]
    }
   ],
   "source": [
    "epochs = 100\n",
    "dfhistory = pd.DataFrame(columns = [\"epoch\",\"loss\",metric_name,\"val_loss\",\"val_\"+metric_name]) \n",
    "print(\"Start Training...\")\n",
    "nowtime = datetime.datetime.now().strftime('%Y-%m-%d %H:%M:%S')\n",
    "print(\"==========\"*8 + \"%s\"%nowtime)\n",
    "scheduler = CosineAnnealingLR(optimizer, 10, eta_min=1e-3, last_epoch=-1)\n",
    "log_path = \"C:/Users/nangu/OneDrive - Uppsala universitet/ComputationalScienceProjectData/nn_history\"\n",
    "writer = SummaryWriter(log_dir=log_path + '/nn' + time.strftime('%m-%d_%H.%M', time.localtime()))\n",
    "for epoch in range(1,epochs+1):  \n",
    "\n",
    "    net.train()\n",
    "    loss_sum = 0.0\n",
    "    acc_sum = 0.0\n",
    "    step = 1\n",
    "    \n",
    "    for step, (features,labels) in enumerate(dl_train, 1):\n",
    "    \n",
    "        optimizer.zero_grad()\n",
    "\n",
    "        predictions = net(features)\n",
    "        loss = F.cross_entropy(predictions,labels)\n",
    "#         metric = metrics.accuracy_score(predictions,labels)\n",
    "        \n",
    "        true = labels.data.cpu()\n",
    "        predic = torch.max(predictions.data, 1)[1].cpu()\n",
    "        acc = metrics.accuracy_score(true, predic)\n",
    "        \n",
    "        loss.backward()\n",
    "        optimizer.step()\n",
    "\n",
    "        loss_sum += loss.item()\n",
    "        acc_sum += acc.item()\n",
    "\n",
    "#     scheduler.step()\n",
    "    net.eval()\n",
    "\n",
    "    predict_all = np.array([], dtype=int)\n",
    "    labels_all = np.array([], dtype=int)\n",
    "    \n",
    "    loss_total = 0\n",
    "    for val_step, (features,labels) in enumerate(dl_valid, 1):\n",
    "        with torch.no_grad():\n",
    "            val_predictions = net(features)\n",
    "            val_loss = F.cross_entropy(val_predictions,labels)\n",
    "            loss_total += val_loss\n",
    "            val_true = labels.data.cpu()\n",
    "            val_predic = torch.max(val_predictions.data, 1)[1].cpu()\n",
    "            labels_all = np.append(labels_all, labels)\n",
    "            predict_all = np.append(predict_all, val_predic)\n",
    "    dev_acc = metrics.accuracy_score(labels_all, predict_all)\n",
    "    \n",
    "    dev_loss =  loss_total / len(dl_valid)\n",
    "    info = (epoch, loss_sum/len(dl_train), acc_sum/len(dl_train), \n",
    "            dev_loss, dev_acc)\n",
    "    dfhistory.loc[epoch-1] = info\n",
    "    \n",
    "    print((\"\\nEPOCH = %d, loss = %.5f,\"+ metric_name + \\\n",
    "          \"  = %.5f, val_loss = %.5f, \"+\"val_\"+ metric_name+\" = %.5f\") \n",
    "          %info)\n",
    "    nowtime = datetime.datetime.now().strftime('%Y-%m-%d %H:%M:%S')\n",
    "#     print(\"\\n\"+\"==========\"*8 + \"%s\"%nowtime)\n",
    "    writer.add_scalar(\"loss/train\", loss_sum/len(dl_train), epoch)\n",
    "    writer.add_scalar(\"loss/dev\", dev_loss, epoch)\n",
    "    writer.add_scalar(\"acc/train\", acc_sum/len(dl_train), epoch)\n",
    "    writer.add_scalar(\"acc/dev\", dev_acc, epoch)\n",
    "writer.close()\n",
    "print('Finished Training...')"
   ]
  },
  {
   "cell_type": "code",
   "execution_count": 112,
   "metadata": {},
   "outputs": [],
   "source": [
    "predict_all_test = np.array([], dtype=int)\n",
    "labels_all_test = np.array([], dtype=int)\n",
    "test_loss_sum = []\n",
    "for val_step, (features,labels) in enumerate(dl_test, 1):\n",
    "    with torch.no_grad():\n",
    "        predictions = net(features)\n",
    "        test_loss = F.cross_entropy(predictions,labels)\n",
    "        test_loss_sum.append(test_loss.item())\n",
    "        test_true = labels.data.cpu()\n",
    "        test_predic = torch.max(predictions.data, 1)[1].cpu()\n",
    "        labels_all_test = np.append(labels_all_test, labels)\n",
    "        predict_all_test = np.append(predict_all_test, test_predic)"
   ]
  },
  {
   "cell_type": "code",
   "execution_count": 113,
   "metadata": {},
   "outputs": [
    {
     "name": "stdout",
     "output_type": "stream",
     "text": [
      "0.5\n",
      "8.553807020187378\n"
     ]
    }
   ],
   "source": [
    "test_acc = metrics.accuracy_score(labels_all_test, predict_all_test)\n",
    "print(test_acc)\n",
    "print(np.mean(test_loss_sum))"
   ]
  },
  {
   "cell_type": "code",
   "execution_count": 114,
   "metadata": {},
   "outputs": [
    {
     "name": "stderr",
     "output_type": "stream",
     "text": [
      "c:\\python37\\lib\\site-packages\\sklearn\\metrics\\_classification.py:1221: UndefinedMetricWarning: Precision and F-score are ill-defined and being set to 0.0 in labels with no predicted samples. Use `zero_division` parameter to control this behavior.\n",
      "  _warn_prf(average, modifier, msg_start, len(result))\n"
     ]
    }
   ],
   "source": [
    "report = metrics.classification_report(labels_all_test, predict_all_test)"
   ]
  },
  {
   "cell_type": "code",
   "execution_count": 115,
   "metadata": {},
   "outputs": [
    {
     "name": "stdout",
     "output_type": "stream",
     "text": [
      "              precision    recall  f1-score   support\n",
      "\n",
      "           0       0.00      0.00      0.00         2\n",
      "           1       0.00      0.00      0.00         2\n",
      "           2       0.50      1.00      0.67         4\n",
      "\n",
      "    accuracy                           0.50         8\n",
      "   macro avg       0.17      0.33      0.22         8\n",
      "weighted avg       0.25      0.50      0.33         8\n",
      "\n"
     ]
    }
   ],
   "source": [
    "print(report)"
   ]
  },
  {
   "cell_type": "code",
   "execution_count": 525,
   "metadata": {},
   "outputs": [
    {
     "data": {
      "text/plain": [
       "(array([2, 2, 1, 0, 2, 1, 0, 2], dtype=int64),\n",
       " array([2, 2, 2, 2, 2, 2, 2, 2], dtype=int64))"
      ]
     },
     "execution_count": 525,
     "metadata": {},
     "output_type": "execute_result"
    }
   ],
   "source": [
    "labels_all_test, predict_all_test"
   ]
  },
  {
   "cell_type": "code",
   "execution_count": 526,
   "metadata": {},
   "outputs": [
    {
     "data": {
      "text/plain": [
       "(array([2, 2, 1, 0, 2, 1, 0, 2]), array([2, 2, 2, 2, 0, 0, 2, 2]))"
      ]
     },
     "execution_count": 526,
     "metadata": {},
     "output_type": "execute_result"
    }
   ],
   "source": [
    "Y_test, Y_pred_test"
   ]
  },
  {
   "cell_type": "code",
   "execution_count": 527,
   "metadata": {},
   "outputs": [
    {
     "data": {
      "text/plain": [
       "(array([2, 2, 1, 0, 2, 1, 0, 2]), array([2, 2, 2, 2, 2, 2, 2, 2]))"
      ]
     },
     "execution_count": 527,
     "metadata": {},
     "output_type": "execute_result"
    }
   ],
   "source": [
    "Y_test, Y_pred_test_svm"
   ]
  },
  {
   "cell_type": "code",
   "execution_count": 528,
   "metadata": {},
   "outputs": [],
   "source": [
    "ensemble = []\n",
    "for i in range(len(Y_pred_test)):\n",
    "    prdiction_en = Y_pred_test[i] if Y_pred_test[i]== predict_all_test[i] else predict_all_test[i]\n",
    "    ensemble.append(prdiction_en)\n"
   ]
  },
  {
   "cell_type": "code",
   "execution_count": null,
   "metadata": {},
   "outputs": [],
   "source": []
  },
  {
   "cell_type": "code",
   "execution_count": null,
   "metadata": {},
   "outputs": [],
   "source": []
  }
 ],
 "metadata": {
  "kernelspec": {
   "display_name": "Python 3",
   "language": "python",
   "name": "python3"
  },
  "language_info": {
   "codemirror_mode": {
    "name": "ipython",
    "version": 3
   },
   "file_extension": ".py",
   "mimetype": "text/x-python",
   "name": "python",
   "nbconvert_exporter": "python",
   "pygments_lexer": "ipython3",
   "version": "3.7.8"
  }
 },
 "nbformat": 4,
 "nbformat_minor": 4
}
